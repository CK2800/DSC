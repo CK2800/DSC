{
 "metadata": {
  "language_info": {
   "codemirror_mode": {
    "name": "ipython",
    "version": 3
   },
   "file_extension": ".py",
   "mimetype": "text/x-python",
   "name": "python",
   "nbconvert_exporter": "python",
   "pygments_lexer": "ipython3",
   "version": "3.7.5-final"
  },
  "orig_nbformat": 2,
  "kernelspec": {
   "name": "python3",
   "display_name": "Python 3.7.5 64-bit (conda)",
   "metadata": {
    "interpreter": {
     "hash": "c7a92eff8b900e633770213ae3a2c6e85ee2848f6f5e1817c5a6462f1fd1b026"
    }
   }
  }
 },
 "nbformat": 4,
 "nbformat_minor": 2,
 "cells": [
  {
   "cell_type": "code",
   "execution_count": 11,
   "metadata": {},
   "outputs": [],
   "source": [
    "import pandas as pd\n",
    "from collections import Counter\n",
    "import re #regex\n",
    "import math"
   ]
  },
  {
   "source": [
    "# Read the files and store in texts array."
   ],
   "cell_type": "markdown",
   "metadata": {}
  },
  {
   "cell_type": "code",
   "execution_count": 12,
   "metadata": {},
   "outputs": [],
   "source": [
    "files = ['olk1.txt', 'hca1.txt', 'hca2.txt']\n",
    "texts = []\n",
    "for file in files:    \n",
    "    fs = open(file, 'r')\n",
    "    texts.append(re.sub(r'([^\\w\\s])+', '', fs.read())) # match alle words og spaces og negér så alt udenfor match fjernes.\n"
   ]
  },
  {
   "cell_type": "code",
   "execution_count": 13,
   "metadata": {},
   "outputs": [
    {
     "output_type": "stream",
     "name": "stdout",
     "text": [
      "255\n"
     ]
    }
   ],
   "source": [
    "all_words = set(texts[0].split(' ')).union(set(texts[1].split(' '))).union(set(texts[2].split(' ')))\n",
    "# corpus size\n",
    "print(len(all_words))\n"
   ]
  },
  {
   "source": [
    "# For each text create dictionary with all words combined."
   ],
   "cell_type": "markdown",
   "metadata": {}
  },
  {
   "cell_type": "code",
   "execution_count": 14,
   "metadata": {},
   "outputs": [],
   "source": [
    "dicts = []\n",
    "for text in texts:\n",
    "    dict = dict.fromkeys(all_words, 0) # create a dictionary with all_words as keys and initial count of 0.\n",
    "    dicts.append(dict)"
   ]
  },
  {
   "source": [
    "# Count occurences of every word of every text"
   ],
   "cell_type": "markdown",
   "metadata": {}
  },
  {
   "cell_type": "code",
   "execution_count": 15,
   "metadata": {},
   "outputs": [
    {
     "output_type": "stream",
     "name": "stdout",
     "text": [
      "{'fortalte': 0, 'Fader': 0, 'Livskraft': 0, 'gjorte': 0, 'bulgariske': 0, 'faae': 0, 'Alkoranen': 0, 'hovedet': 1, 'sin': 0, 'mig': 1, 'faaet': 0, 'fik': 0, 'bedende': 0, 'taktmÃssig': 0, 'smaae': 0, 'en': 1, 'Pera': 0, 'buksevand': 1, 'MÃdte': 0, 'pÃ': 2, 'min': 0, 'Solskin': 0, 'Sophaen': 0, 'foran': 0, 'BesÃgt': 0, 'reiste': 0, 'Gummi': 1, 'bÃie': 0, 'Olymp': 0, 'Helvede': 0, 'det': 1, 'seet': 0, 'Nattergalerne': 0, 'Den': 0, 'Tjener': 0, 'Anecdoter': 0, 'lod': 0, 'uden': 0, 'skreg': 1, 'Ivan': 5, 'skolens': 1, 'samles': 0, 'armen': 1, 'gled': 0, 'skulde': 0, 'drenge': 1, 'stor': 0, 'fat': 1, 'Augh': 1, 'SÃkkepibe': 0, 'man': 0, 'store': 5, 'Armenianer': 0, 'var': 0, 'slog': 0, 'sorte': 0, 'udlader': 0, 'Man': 0, 'lÃst': 0, 'deres': 0, 'Tilnavnet': 0, 'cykel': 1, 'Ministre': 0, 'ingen': 0, 'Draabe': 0, 'mÃder': 1, 'gjÃr': 0, 'BjergrÃkke': 0, 'fuld': 0, 'her': 0, 'Ibrahin': 0, 'sÃ': 1, 'svarer': 1, 'Blikstille': 0, 'laae': 0, 'indeni': 0, 'havde': 0, 'hen': 1, 'Secretairerne': 0, 'Sandselighed': 0, 'stikke': 0, 'Sultans': 0, 'alle': 0, 'Ild': 0, 'klare': 0, 'er': 0, 'ved': 0, 'hÃie': 0, 'at': 1, 'Duft': 0, 'syntes': 0, 'Da': 1, 'der': 0, 'alene': 0, 'Gaderne': 0, 'sig': 0, 'see': 0, 'vare': 0, 'anden': 0, 'Pirren': 0, 'Turtelduerne': 0, 'skiderik': 1, 'Slanger': 0, 'blÃser': 0, 'Spadseret': 0, 'kom': 1, 'Luft': 0, 'Armenianere': 0, 'Middagsbordet': 0, 'ad': 1, 'slÃr': 1, 'ham': 2, 'Paschid': 0, 'din': 1, 'LÃverdag': 0, 'de': 1, 'Tydsker': 0, 'som': 1, 'skulle': 1, 'âSpadseret': 0, 'dandser': 0, 'Bjergene': 0, 'disse': 0, 'Skibene': 0, 'den': 4, 'Sirater': 0, 'bag': 0, 'Qvaien': 0, 'under': 1, 'hvide': 0, 'Moskeerne': 0, 'op': 0, 'Tjeneste': 0, 'ud': 0, 'hvor': 0, 'Kasernen': 0, 'Mai': 0, 'Tyrker': 0, 'lige': 1, 'BÃnder': 0, 'gribe': 1, 'een': 0, 'Vished': 0, 'De': 0, 'Tarzan': 1, 'gaae': 0, 'ryger': 1, 'smÃgende': 0, 'bette': 2, 'Snee': 0, 'denne': 0, 'Machmud': 0, 'slÃber': 1, 'for': 0, 'varme': 0, 'Baade': 0, 'enkelte': 0, 'henover': 0, 'Ja': 1, 'Han': 1, 'ned': 0, 'seer': 0, 'mod': 0, 'Linier': 0, 'Marmorhavet': 0, 'TÃr': 1, 'Urolighederne': 0, 'numsen': 1, 'ligge': 0, 'saa': 0, 'jeg': 1, 'Gaden': 0, 'af': 1, 'StrÃmmen': 0, 'flere': 0, 'gik': 1, 'Hej': 1, 'Biografie': 0, 'og': 2, 'Siderne': 0, 'ere': 0, 'gÃende': 1, 'Gaaende': 0, 'Asien': 0, 'Romani': 0, 'Ved': 0, 'i': 3, 'engang': 0, 'han': 2, 'HÃ¼bsch': 0, 'gaden': 1, 'fremmede': 0, 'dag': 1, 'berlinske': 0, '1ste': 0, 'siger': 1, 'om': 0, 'tyrkisk': 0, '1841': 0, 'Officeer': 0, 'Janischarerne': 0, 'Fru': 0, 'Virkning': 0, 'mors': 1, 'Seil': 0, 'lokummer': 1, 'selve': 0, 'til': 1, 'Svane': 0, 'mine': 0, 'spiiste': 0, 'Monte': 0, 'Turban': 0, 'turde': 0, 'med': 0, 'give': 1, 'NÃrverne': 0, 'brogede': 0, 'GrÃker': 0, 'SÃen': 0, 'PrÃst': 0, 'kurrede': 0, 'nÃrmere': 2, 'men': 0, 'paa': 0, 'da': 0, 'tager': 1, 'nuvÃrende': 0, 'Stuen': 0, 'salig': 0, 'gÃr': 1, 'du': 1, 'Taarnet': 0, 'SkutariSiden': 0, 'speilede': 0, 'Conferent': 0, 'gjennem': 0, 'SÃ': 1, 'Constantinopel': 0, 'bedÃkket': 0, 'Romaner': 0, 'dreng': 4, 'Barbeer': 0, 'har': 1, 'Linie': 0, 'hans': 1, 'Cypresser': 0, 'ung': 0, 'ind': 1, 'Marmor': 0, 'Bulgariet': 0, 'skyde': 0, 'Ven': 0, 'Kirke': 0, 'taget': 1}\n{'fortalte': 0, 'Fader': 0, 'Livskraft': 1, 'gjorte': 0, 'bulgariske': 1, 'faae': 0, 'Alkoranen': 0, 'hovedet': 0, 'sin': 1, 'mig': 0, 'faaet': 0, 'fik': 0, 'bedende': 1, 'taktmÃssig': 1, 'smaae': 1, 'en': 7, 'Pera': 1, 'buksevand': 0, 'MÃdte': 0, 'pÃ': 0, 'min': 1, 'Solskin': 1, 'Sophaen': 0, 'foran': 0, 'BesÃgt': 0, 'reiste': 0, 'Gummi': 0, 'bÃie': 1, 'Olymp': 0, 'Helvede': 0, 'det': 2, 'seet': 0, 'Nattergalerne': 1, 'Den': 0, 'Tjener': 0, 'Anecdoter': 0, 'lod': 0, 'uden': 1, 'skreg': 0, 'Ivan': 0, 'skolens': 0, 'samles': 0, 'armen': 0, 'gled': 0, 'skulde': 0, 'drenge': 0, 'stor': 1, 'fat': 0, 'Augh': 0, 'SÃkkepibe': 1, 'man': 1, 'store': 0, 'Armenianer': 1, 'var': 2, 'slog': 1, 'sorte': 0, 'udlader': 1, 'Man': 1, 'lÃst': 0, 'deres': 1, 'Tilnavnet': 0, 'cykel': 0, 'Ministre': 0, 'ingen': 0, 'Draabe': 1, 'mÃder': 0, 'gjÃr': 1, 'BjergrÃkke': 1, 'fuld': 1, 'her': 0, 'Ibrahin': 0, 'sÃ': 0, 'svarer': 0, 'Blikstille': 1, 'laae': 3, 'indeni': 1, 'havde': 0, 'hen': 1, 'Secretairerne': 0, 'Sandselighed': 1, 'stikke': 0, 'Sultans': 0, 'alle': 1, 'Ild': 0, 'klare': 2, 'er': 1, 'ved': 2, 'hÃie': 1, 'at': 0, 'Duft': 1, 'syntes': 1, 'Da': 0, 'der': 0, 'alene': 0, 'Gaderne': 1, 'sig': 2, 'see': 0, 'vare': 0, 'anden': 1, 'Pirren': 1, 'Turtelduerne': 1, 'skiderik': 0, 'Slanger': 0, 'blÃser': 1, 'Spadseret': 2, 'kom': 0, 'Luft': 1, 'Armenianere': 1, 'Middagsbordet': 0, 'ad': 0, 'slÃr': 0, 'ham': 0, 'Paschid': 0, 'din': 0, 'LÃverdag': 1, 'de': 3, 'Tydsker': 0, 'som': 1, 'skulle': 0, 'âSpadseret': 1, 'dandser': 1, 'Bjergene': 2, 'disse': 0, 'Skibene': 1, 'den': 4, 'Sirater': 1, 'bag': 2, 'Qvaien': 1, 'under': 0, 'hvide': 2, 'Moskeerne': 1, 'op': 0, 'Tjeneste': 0, 'ud': 1, 'hvor': 0, 'Kasernen': 0, 'Mai': 1, 'Tyrker': 1, 'lige': 1, 'BÃnder': 1, 'gribe': 0, 'een': 1, 'Vished': 0, 'De': 1, 'Tarzan': 0, 'gaae': 0, 'ryger': 0, 'smÃgende': 1, 'bette': 0, 'Snee': 2, 'denne': 1, 'Machmud': 0, 'slÃber': 0, 'for': 0, 'varme': 1, 'Baade': 1, 'enkelte': 0, 'henover': 0, 'Ja': 0, 'Han': 0, 'ned': 1, 'seer': 1, 'mod': 1, 'Linier': 1, 'Marmorhavet': 1, 'TÃr': 0, 'Urolighederne': 0, 'numsen': 0, 'ligge': 1, 'saa': 1, 'jeg': 0, 'Gaden': 0, 'af': 3, 'StrÃmmen': 0, 'flere': 0, 'gik': 1, 'Hej': 0, 'Biografie': 0, 'og': 4, 'Siderne': 0, 'ere': 1, 'gÃende': 0, 'Gaaende': 0, 'Asien': 1, 'Romani': 0, 'Ved': 0, 'i': 9, 'engang': 1, 'han': 0, 'HÃ¼bsch': 0, 'gaden': 0, 'fremmede': 0, 'dag': 0, 'berlinske': 0, '1ste': 1, 'siger': 0, 'om': 1, 'tyrkisk': 0, '1841': 1, 'Officeer': 0, 'Janischarerne': 0, 'Fru': 0, 'Virkning': 1, 'mors': 0, 'Seil': 1, 'lokummer': 0, 'selve': 0, 'til': 3, 'Svane': 1, 'mine': 0, 'spiiste': 0, 'Monte': 0, 'Turban': 0, 'turde': 0, 'med': 3, 'give': 0, 'NÃrverne': 1, 'brogede': 1, 'GrÃker': 1, 'SÃen': 1, 'PrÃst': 0, 'kurrede': 1, 'nÃrmere': 0, 'men': 0, 'paa': 1, 'da': 0, 'tager': 0, 'nuvÃrende': 0, 'Stuen': 1, 'salig': 1, 'gÃr': 0, 'du': 0, 'Taarnet': 1, 'SkutariSiden': 1, 'speilede': 1, 'Conferent': 0, 'gjennem': 1, 'SÃ': 0, 'Constantinopel': 1, 'bedÃkket': 0, 'Romaner': 0, 'dreng': 0, 'Barbeer': 1, 'har': 0, 'Linie': 1, 'hans': 0, 'Cypresser': 1, 'ung': 0, 'ind': 0, 'Marmor': 1, 'Bulgariet': 0, 'skyde': 0, 'Ven': 0, 'Kirke': 1, 'taget': 0}\n{'fortalte': 1, 'Fader': 1, 'Livskraft': 0, 'gjorte': 1, 'bulgariske': 0, 'faae': 1, 'Alkoranen': 1, 'hovedet': 0, 'sin': 0, 'mig': 2, 'faaet': 1, 'fik': 1, 'bedende': 0, 'taktmÃssig': 0, 'smaae': 0, 'en': 5, 'Pera': 0, 'buksevand': 0, 'MÃdte': 1, 'pÃ': 0, 'min': 1, 'Solskin': 0, 'Sophaen': 2, 'foran': 1, 'BesÃgt': 1, 'reiste': 1, 'Gummi': 0, 'bÃie': 0, 'Olymp': 1, 'Helvede': 1, 'det': 3, 'seet': 1, 'Nattergalerne': 0, 'Den': 1, 'Tjener': 1, 'Anecdoter': 1, 'lod': 2, 'uden': 0, 'skreg': 0, 'Ivan': 0, 'skolens': 0, 'samles': 1, 'armen': 0, 'gled': 1, 'skulde': 1, 'drenge': 0, 'stor': 0, 'fat': 0, 'Augh': 0, 'SÃkkepibe': 0, 'man': 0, 'store': 0, 'Armenianer': 0, 'var': 0, 'slog': 0, 'sorte': 2, 'udlader': 0, 'Man': 0, 'lÃst': 1, 'deres': 0, 'Tilnavnet': 1, 'cykel': 0, 'Ministre': 1, 'ingen': 1, 'Draabe': 0, 'mÃder': 0, 'gjÃr': 0, 'BjergrÃkke': 0, 'fuld': 0, 'her': 1, 'Ibrahin': 2, 'sÃ': 0, 'svarer': 0, 'Blikstille': 0, 'laae': 1, 'indeni': 0, 'havde': 2, 'hen': 0, 'Secretairerne': 1, 'Sandselighed': 0, 'stikke': 1, 'Sultans': 1, 'alle': 1, 'Ild': 1, 'klare': 0, 'er': 1, 'ved': 1, 'hÃie': 0, 'at': 2, 'Duft': 0, 'syntes': 0, 'Da': 0, 'der': 3, 'alene': 1, 'Gaderne': 0, 'sig': 2, 'see': 1, 'vare': 1, 'anden': 0, 'Pirren': 0, 'Turtelduerne': 0, 'skiderik': 0, 'Slanger': 1, 'blÃser': 0, 'Spadseret': 0, 'kom': 1, 'Luft': 0, 'Armenianere': 0, 'Middagsbordet': 1, 'ad': 0, 'slÃr': 0, 'ham': 0, 'Paschid': 1, 'din': 0, 'LÃverdag': 0, 'de': 1, 'Tydsker': 1, 'som': 2, 'skulle': 0, 'âSpadseret': 1, 'dandser': 0, 'Bjergene': 0, 'disse': 1, 'Skibene': 0, 'den': 2, 'Sirater': 0, 'bag': 1, 'Qvaien': 0, 'under': 0, 'hvide': 0, 'Moskeerne': 0, 'op': 1, 'Tjeneste': 1, 'ud': 2, 'hvor': 1, 'Kasernen': 1, 'Mai': 0, 'Tyrker': 0, 'lige': 0, 'BÃnder': 0, 'gribe': 0, 'een': 0, 'Vished': 1, 'De': 0, 'Tarzan': 0, 'gaae': 1, 'ryger': 0, 'smÃgende': 0, 'bette': 0, 'Snee': 1, 'denne': 0, 'Machmud': 2, 'slÃber': 0, 'for': 2, 'varme': 0, 'Baade': 0, 'enkelte': 1, 'henover': 1, 'Ja': 0, 'Han': 0, 'ned': 0, 'seer': 0, 'mod': 0, 'Linier': 0, 'Marmorhavet': 0, 'TÃr': 0, 'Urolighederne': 1, 'numsen': 0, 'ligge': 0, 'saa': 0, 'jeg': 1, 'Gaden': 1, 'af': 0, 'StrÃmmen': 1, 'flere': 1, 'gik': 2, 'Hej': 0, 'Biografie': 1, 'og': 7, 'Siderne': 1, 'ere': 0, 'gÃende': 0, 'Gaaende': 1, 'Asien': 0, 'Romani': 2, 'Ved': 1, 'i': 6, 'engang': 0, 'han': 1, 'HÃ¼bsch': 1, 'gaden': 0, 'fremmede': 1, 'dag': 0, 'berlinske': 1, '1ste': 0, 'siger': 0, 'om': 1, 'tyrkisk': 2, '1841': 0, 'Officeer': 1, 'Janischarerne': 1, 'Fru': 1, 'Virkning': 0, 'mors': 0, 'Seil': 0, 'lokummer': 0, 'selve': 1, 'til': 1, 'Svane': 0, 'mine': 1, 'spiiste': 1, 'Monte': 1, 'Turban': 1, 'turde': 1, 'med': 3, 'give': 0, 'NÃrverne': 0, 'brogede': 0, 'GrÃker': 0, 'SÃen': 0, 'PrÃst': 2, 'kurrede': 0, 'nÃrmere': 0, 'men': 1, 'paa': 4, 'da': 2, 'tager': 0, 'nuvÃrende': 1, 'Stuen': 0, 'salig': 0, 'gÃr': 0, 'du': 0, 'Taarnet': 0, 'SkutariSiden': 0, 'speilede': 0, 'Conferent': 1, 'gjennem': 0, 'SÃ': 0, 'Constantinopel': 0, 'bedÃkket': 1, 'Romaner': 1, 'dreng': 0, 'Barbeer': 0, 'har': 1, 'Linie': 0, 'hans': 1, 'Cypresser': 0, 'ung': 1, 'ind': 0, 'Marmor': 0, 'Bulgariet': 1, 'skyde': 1, 'Ven': 1, 'Kirke': 0, 'taget': 0}\n"
     ]
    }
   ],
   "source": [
    "for i in range(len(texts)):             # for each text\n",
    "    for word in texts[i].split(' '):    # for each word\n",
    "        dicts[i][word] += 1             # increment count in corresponding dict\n",
    "    print(dicts[i])\n"
   ]
  },
  {
   "source": [
    "# Store resulting dictionaries in panda dataframe."
   ],
   "cell_type": "markdown",
   "metadata": {}
  },
  {
   "cell_type": "code",
   "execution_count": 16,
   "metadata": {},
   "outputs": [
    {
     "output_type": "execute_result",
     "data": {
      "text/plain": [
       "       fortalte     Fader  Livskraft    gjorte  bulgariske      faae  \\\n",
       "count  3.000000  3.000000   3.000000  3.000000    3.000000  3.000000   \n",
       "mean   0.333333  0.333333   0.333333  0.333333    0.333333  0.333333   \n",
       "std    0.577350  0.577350   0.577350  0.577350    0.577350  0.577350   \n",
       "min    0.000000  0.000000   0.000000  0.000000    0.000000  0.000000   \n",
       "25%    0.000000  0.000000   0.000000  0.000000    0.000000  0.000000   \n",
       "50%    0.000000  0.000000   0.000000  0.000000    0.000000  0.000000   \n",
       "75%    0.500000  0.500000   0.500000  0.500000    0.500000  0.500000   \n",
       "max    1.000000  1.000000   1.000000  1.000000    1.000000  1.000000   \n",
       "\n",
       "       Alkoranen   hovedet       sin  mig  ...      hans  Cypresser       ung  \\\n",
       "count   3.000000  3.000000  3.000000  3.0  ...  3.000000   3.000000  3.000000   \n",
       "mean    0.333333  0.333333  0.333333  1.0  ...  0.666667   0.333333  0.333333   \n",
       "std     0.577350  0.577350  0.577350  1.0  ...  0.577350   0.577350  0.577350   \n",
       "min     0.000000  0.000000  0.000000  0.0  ...  0.000000   0.000000  0.000000   \n",
       "25%     0.000000  0.000000  0.000000  0.5  ...  0.500000   0.000000  0.000000   \n",
       "50%     0.000000  0.000000  0.000000  1.0  ...  1.000000   0.000000  0.000000   \n",
       "75%     0.500000  0.500000  0.500000  1.5  ...  1.000000   0.500000  0.500000   \n",
       "max     1.000000  1.000000  1.000000  2.0  ...  1.000000   1.000000  1.000000   \n",
       "\n",
       "            ind    Marmor  Bulgariet     skyde       Ven     Kirke     taget  \n",
       "count  3.000000  3.000000   3.000000  3.000000  3.000000  3.000000  3.000000  \n",
       "mean   0.333333  0.333333   0.333333  0.333333  0.333333  0.333333  0.333333  \n",
       "std    0.577350  0.577350   0.577350  0.577350  0.577350  0.577350  0.577350  \n",
       "min    0.000000  0.000000   0.000000  0.000000  0.000000  0.000000  0.000000  \n",
       "25%    0.000000  0.000000   0.000000  0.000000  0.000000  0.000000  0.000000  \n",
       "50%    0.000000  0.000000   0.000000  0.000000  0.000000  0.000000  0.000000  \n",
       "75%    0.500000  0.500000   0.500000  0.500000  0.500000  0.500000  0.500000  \n",
       "max    1.000000  1.000000   1.000000  1.000000  1.000000  1.000000  1.000000  \n",
       "\n",
       "[8 rows x 255 columns]"
      ],
      "text/html": "<div>\n<style scoped>\n    .dataframe tbody tr th:only-of-type {\n        vertical-align: middle;\n    }\n\n    .dataframe tbody tr th {\n        vertical-align: top;\n    }\n\n    .dataframe thead th {\n        text-align: right;\n    }\n</style>\n<table border=\"1\" class=\"dataframe\">\n  <thead>\n    <tr style=\"text-align: right;\">\n      <th></th>\n      <th>fortalte</th>\n      <th>Fader</th>\n      <th>Livskraft</th>\n      <th>gjorte</th>\n      <th>bulgariske</th>\n      <th>faae</th>\n      <th>Alkoranen</th>\n      <th>hovedet</th>\n      <th>sin</th>\n      <th>mig</th>\n      <th>...</th>\n      <th>hans</th>\n      <th>Cypresser</th>\n      <th>ung</th>\n      <th>ind</th>\n      <th>Marmor</th>\n      <th>Bulgariet</th>\n      <th>skyde</th>\n      <th>Ven</th>\n      <th>Kirke</th>\n      <th>taget</th>\n    </tr>\n  </thead>\n  <tbody>\n    <tr>\n      <th>count</th>\n      <td>3.000000</td>\n      <td>3.000000</td>\n      <td>3.000000</td>\n      <td>3.000000</td>\n      <td>3.000000</td>\n      <td>3.000000</td>\n      <td>3.000000</td>\n      <td>3.000000</td>\n      <td>3.000000</td>\n      <td>3.0</td>\n      <td>...</td>\n      <td>3.000000</td>\n      <td>3.000000</td>\n      <td>3.000000</td>\n      <td>3.000000</td>\n      <td>3.000000</td>\n      <td>3.000000</td>\n      <td>3.000000</td>\n      <td>3.000000</td>\n      <td>3.000000</td>\n      <td>3.000000</td>\n    </tr>\n    <tr>\n      <th>mean</th>\n      <td>0.333333</td>\n      <td>0.333333</td>\n      <td>0.333333</td>\n      <td>0.333333</td>\n      <td>0.333333</td>\n      <td>0.333333</td>\n      <td>0.333333</td>\n      <td>0.333333</td>\n      <td>0.333333</td>\n      <td>1.0</td>\n      <td>...</td>\n      <td>0.666667</td>\n      <td>0.333333</td>\n      <td>0.333333</td>\n      <td>0.333333</td>\n      <td>0.333333</td>\n      <td>0.333333</td>\n      <td>0.333333</td>\n      <td>0.333333</td>\n      <td>0.333333</td>\n      <td>0.333333</td>\n    </tr>\n    <tr>\n      <th>std</th>\n      <td>0.577350</td>\n      <td>0.577350</td>\n      <td>0.577350</td>\n      <td>0.577350</td>\n      <td>0.577350</td>\n      <td>0.577350</td>\n      <td>0.577350</td>\n      <td>0.577350</td>\n      <td>0.577350</td>\n      <td>1.0</td>\n      <td>...</td>\n      <td>0.577350</td>\n      <td>0.577350</td>\n      <td>0.577350</td>\n      <td>0.577350</td>\n      <td>0.577350</td>\n      <td>0.577350</td>\n      <td>0.577350</td>\n      <td>0.577350</td>\n      <td>0.577350</td>\n      <td>0.577350</td>\n    </tr>\n    <tr>\n      <th>min</th>\n      <td>0.000000</td>\n      <td>0.000000</td>\n      <td>0.000000</td>\n      <td>0.000000</td>\n      <td>0.000000</td>\n      <td>0.000000</td>\n      <td>0.000000</td>\n      <td>0.000000</td>\n      <td>0.000000</td>\n      <td>0.0</td>\n      <td>...</td>\n      <td>0.000000</td>\n      <td>0.000000</td>\n      <td>0.000000</td>\n      <td>0.000000</td>\n      <td>0.000000</td>\n      <td>0.000000</td>\n      <td>0.000000</td>\n      <td>0.000000</td>\n      <td>0.000000</td>\n      <td>0.000000</td>\n    </tr>\n    <tr>\n      <th>25%</th>\n      <td>0.000000</td>\n      <td>0.000000</td>\n      <td>0.000000</td>\n      <td>0.000000</td>\n      <td>0.000000</td>\n      <td>0.000000</td>\n      <td>0.000000</td>\n      <td>0.000000</td>\n      <td>0.000000</td>\n      <td>0.5</td>\n      <td>...</td>\n      <td>0.500000</td>\n      <td>0.000000</td>\n      <td>0.000000</td>\n      <td>0.000000</td>\n      <td>0.000000</td>\n      <td>0.000000</td>\n      <td>0.000000</td>\n      <td>0.000000</td>\n      <td>0.000000</td>\n      <td>0.000000</td>\n    </tr>\n    <tr>\n      <th>50%</th>\n      <td>0.000000</td>\n      <td>0.000000</td>\n      <td>0.000000</td>\n      <td>0.000000</td>\n      <td>0.000000</td>\n      <td>0.000000</td>\n      <td>0.000000</td>\n      <td>0.000000</td>\n      <td>0.000000</td>\n      <td>1.0</td>\n      <td>...</td>\n      <td>1.000000</td>\n      <td>0.000000</td>\n      <td>0.000000</td>\n      <td>0.000000</td>\n      <td>0.000000</td>\n      <td>0.000000</td>\n      <td>0.000000</td>\n      <td>0.000000</td>\n      <td>0.000000</td>\n      <td>0.000000</td>\n    </tr>\n    <tr>\n      <th>75%</th>\n      <td>0.500000</td>\n      <td>0.500000</td>\n      <td>0.500000</td>\n      <td>0.500000</td>\n      <td>0.500000</td>\n      <td>0.500000</td>\n      <td>0.500000</td>\n      <td>0.500000</td>\n      <td>0.500000</td>\n      <td>1.5</td>\n      <td>...</td>\n      <td>1.000000</td>\n      <td>0.500000</td>\n      <td>0.500000</td>\n      <td>0.500000</td>\n      <td>0.500000</td>\n      <td>0.500000</td>\n      <td>0.500000</td>\n      <td>0.500000</td>\n      <td>0.500000</td>\n      <td>0.500000</td>\n    </tr>\n    <tr>\n      <th>max</th>\n      <td>1.000000</td>\n      <td>1.000000</td>\n      <td>1.000000</td>\n      <td>1.000000</td>\n      <td>1.000000</td>\n      <td>1.000000</td>\n      <td>1.000000</td>\n      <td>1.000000</td>\n      <td>1.000000</td>\n      <td>2.0</td>\n      <td>...</td>\n      <td>1.000000</td>\n      <td>1.000000</td>\n      <td>1.000000</td>\n      <td>1.000000</td>\n      <td>1.000000</td>\n      <td>1.000000</td>\n      <td>1.000000</td>\n      <td>1.000000</td>\n      <td>1.000000</td>\n      <td>1.000000</td>\n    </tr>\n  </tbody>\n</table>\n<p>8 rows × 255 columns</p>\n</div>"
     },
     "metadata": {},
     "execution_count": 16
    }
   ],
   "source": [
    "data_frame = pd.DataFrame(dicts)\n",
    "data_frame.shape\n",
    "data_frame.describe()"
   ]
  },
  {
   "cell_type": "code",
   "execution_count": 17,
   "metadata": {},
   "outputs": [
    {
     "output_type": "stream",
     "name": "stdout",
     "text": [
      "olk vs hca1: 0.3014265113724518\nolk vs hca2: 0.2749542731874491\nhca1 vs hca2 0.5309049589224634\n"
     ]
    }
   ],
   "source": [
    "def cosine(vector_1, vector_2):\n",
    "    # find intersecting keys\n",
    "    keys_in_common = set(vector_1.keys()) & set(vector_2.keys())    \n",
    "    \n",
    "    # calculate numerator (dot product)\n",
    "    numerator = sum(vector_1[x] * vector_2[x] for x in keys_in_common)\n",
    "    \n",
    "    # calculate denominator \n",
    "    sum_1, sum_2 = sum(vector_1[x] ** 2 for x in vector_1.keys()), sum(vector_2[x] ** 2 for x in vector_2.keys())\n",
    "    denominator = math.sqrt(sum_1) * math.sqrt(sum_2)\n",
    "    \n",
    "    if not denominator:\n",
    "        return 0.0\n",
    "    else:\n",
    "        return float(numerator)/denominator # promote numerator to float to retain fraction of division.\n",
    "\n",
    "print(\"olk vs hca1:\",cosine(dicts[0], dicts[1]))\n",
    "print(\"olk vs hca2:\",cosine(dicts[0], dicts[2]))\n",
    "print(\"hca1 vs hca2\", cosine(dicts[1], dicts[2]))\n",
    "\n"
   ]
  },
  {
   "cell_type": "code",
   "execution_count": 18,
   "metadata": {},
   "outputs": [],
   "source": [
    "def computeWordFrequency(dictionary, text):\n",
    "    freqDict = {}\n",
    "    corpus = len(text)\n",
    "    for word, wordCount in dictionary.items():\n",
    "        freqDict[word] = wordCount/float(corpus) # e.g. 2 occurences in 248 words = 2/248\n",
    "    return freqDict\n",
    "\n",
    "frequencies = []\n",
    "for text, dict in zip(texts, dicts): # loop both collections in parallel, zip stops when shortest collection ends.\n",
    "    frequencies.append(computeWordFrequency(dict, text))\n",
    "\n"
   ]
  },
  {
   "cell_type": "code",
   "execution_count": 19,
   "metadata": {},
   "outputs": [
    {
     "output_type": "execute_result",
     "data": {
      "text/plain": [
       "   fortalte    Fader  Livskraft   gjorte  bulgariske     faae  Alkoranen  \\\n",
       "0   0.00000  0.00000   0.000000  0.00000    0.000000  0.00000    0.00000   \n",
       "1   0.00000  0.00000   0.001125  0.00000    0.001125  0.00000    0.00000   \n",
       "2   0.00112  0.00112   0.000000  0.00112    0.000000  0.00112    0.00112   \n",
       "\n",
       "    hovedet       sin       mig  ...      hans  Cypresser      ung       ind  \\\n",
       "0  0.002227  0.000000  0.002227  ...  0.002227   0.000000  0.00000  0.002227   \n",
       "1  0.000000  0.001125  0.000000  ...  0.000000   0.001125  0.00000  0.000000   \n",
       "2  0.000000  0.000000  0.002240  ...  0.001120   0.000000  0.00112  0.000000   \n",
       "\n",
       "     Marmor  Bulgariet    skyde      Ven     Kirke     taget  \n",
       "0  0.000000    0.00000  0.00000  0.00000  0.000000  0.002227  \n",
       "1  0.001125    0.00000  0.00000  0.00000  0.001125  0.000000  \n",
       "2  0.000000    0.00112  0.00112  0.00112  0.000000  0.000000  \n",
       "\n",
       "[3 rows x 255 columns]"
      ],
      "text/html": "<div>\n<style scoped>\n    .dataframe tbody tr th:only-of-type {\n        vertical-align: middle;\n    }\n\n    .dataframe tbody tr th {\n        vertical-align: top;\n    }\n\n    .dataframe thead th {\n        text-align: right;\n    }\n</style>\n<table border=\"1\" class=\"dataframe\">\n  <thead>\n    <tr style=\"text-align: right;\">\n      <th></th>\n      <th>fortalte</th>\n      <th>Fader</th>\n      <th>Livskraft</th>\n      <th>gjorte</th>\n      <th>bulgariske</th>\n      <th>faae</th>\n      <th>Alkoranen</th>\n      <th>hovedet</th>\n      <th>sin</th>\n      <th>mig</th>\n      <th>...</th>\n      <th>hans</th>\n      <th>Cypresser</th>\n      <th>ung</th>\n      <th>ind</th>\n      <th>Marmor</th>\n      <th>Bulgariet</th>\n      <th>skyde</th>\n      <th>Ven</th>\n      <th>Kirke</th>\n      <th>taget</th>\n    </tr>\n  </thead>\n  <tbody>\n    <tr>\n      <th>0</th>\n      <td>0.00000</td>\n      <td>0.00000</td>\n      <td>0.000000</td>\n      <td>0.00000</td>\n      <td>0.000000</td>\n      <td>0.00000</td>\n      <td>0.00000</td>\n      <td>0.002227</td>\n      <td>0.000000</td>\n      <td>0.002227</td>\n      <td>...</td>\n      <td>0.002227</td>\n      <td>0.000000</td>\n      <td>0.00000</td>\n      <td>0.002227</td>\n      <td>0.000000</td>\n      <td>0.00000</td>\n      <td>0.00000</td>\n      <td>0.00000</td>\n      <td>0.000000</td>\n      <td>0.002227</td>\n    </tr>\n    <tr>\n      <th>1</th>\n      <td>0.00000</td>\n      <td>0.00000</td>\n      <td>0.001125</td>\n      <td>0.00000</td>\n      <td>0.001125</td>\n      <td>0.00000</td>\n      <td>0.00000</td>\n      <td>0.000000</td>\n      <td>0.001125</td>\n      <td>0.000000</td>\n      <td>...</td>\n      <td>0.000000</td>\n      <td>0.001125</td>\n      <td>0.00000</td>\n      <td>0.000000</td>\n      <td>0.001125</td>\n      <td>0.00000</td>\n      <td>0.00000</td>\n      <td>0.00000</td>\n      <td>0.001125</td>\n      <td>0.000000</td>\n    </tr>\n    <tr>\n      <th>2</th>\n      <td>0.00112</td>\n      <td>0.00112</td>\n      <td>0.000000</td>\n      <td>0.00112</td>\n      <td>0.000000</td>\n      <td>0.00112</td>\n      <td>0.00112</td>\n      <td>0.000000</td>\n      <td>0.000000</td>\n      <td>0.002240</td>\n      <td>...</td>\n      <td>0.001120</td>\n      <td>0.000000</td>\n      <td>0.00112</td>\n      <td>0.000000</td>\n      <td>0.000000</td>\n      <td>0.00112</td>\n      <td>0.00112</td>\n      <td>0.00112</td>\n      <td>0.000000</td>\n      <td>0.000000</td>\n    </tr>\n  </tbody>\n</table>\n<p>3 rows × 255 columns</p>\n</div>"
     },
     "metadata": {},
     "execution_count": 19
    }
   ],
   "source": [
    "frequencies_data_frame = pd.DataFrame(frequencies)\n",
    "frequencies_data_frame.describe\n",
    "frequencies_data_frame"
   ]
  },
  {
   "cell_type": "code",
   "execution_count": 20,
   "metadata": {},
   "outputs": [],
   "source": [
    "# computes importance of word, low frequency means high importance.\n",
    "def computeImportance(dictionaries:list) -> dict:    \n",
    "    no_texts = len(dictionaries)\n",
    "\n",
    "    importances = dict.fromkeys(dictionaries[0].keys(), 0) # initiate dictionary with keys and initial value of 0.\n",
    "    for dictionary in dicts:\n",
    "        for word, wordCount in dictionary.items():\n",
    "            importances[word] = math.log10(no_texts/(float(wordCount)+1))\n",
    "        return importances\n",
    "\n",
    "#computeImportance(dicts)"
   ]
  },
  {
   "cell_type": "code",
   "execution_count": null,
   "metadata": {},
   "outputs": [],
   "source": []
  }
 ]
}